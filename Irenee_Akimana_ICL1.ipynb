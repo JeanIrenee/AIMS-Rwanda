{
 "cells": [
  {
   "cell_type": "markdown",
   "metadata": {},
   "source": [
    "#  Python Code, the sum, the product and Average"
   ]
  },
  {
   "cell_type": "code",
   "execution_count": 4,
   "metadata": {},
   "outputs": [
    {
     "name": "stdout",
     "output_type": "stream",
     "text": [
      "Enter a:2\n",
      "Enter b:3\n",
      "Enter c:4\n",
      "The sum of 2 , 3 and 4 is 9\n",
      "The product of 2 , 3 and 4 is 24\n",
      "The Average of 2 , 3 and 4 is 3.0\n"
     ]
    }
   ],
   "source": [
    "# \n",
    "\n",
    "a = int(input(\"Enter a:\"))\n",
    "b = int(input(\"Enter b:\"))\n",
    "c = int(input(\"Enter c:\"))\n",
    "\n",
    "#Sum\n",
    "\n",
    "sum = a+b+c\n",
    "\n",
    "print(\"The sum of\",a,\",\",b, \"and\",c,\"is\",sum)\n",
    "\n",
    "# Product\n",
    "\n",
    "prod = a*b*c\n",
    "\n",
    "print(\"The product of\",a,\",\",b, \"and\",c,\"is\",prod)\n",
    "\n",
    "#Average\n",
    "\n",
    "ave = sum/3\n",
    "\n",
    "print(\"The Average of\",a,\",\",b, \"and\",c,\"is\",ave)\n",
    "\n"
   ]
  },
  {
   "cell_type": "markdown",
   "metadata": {},
   "source": [
    "#  Python code for the swap of variables\n"
   ]
  },
  {
   "cell_type": "code",
   "execution_count": 11,
   "metadata": {},
   "outputs": [
    {
     "name": "stdout",
     "output_type": "stream",
     "text": [
      "x= 3 and y= 4\n"
     ]
    }
   ],
   "source": [
    "#\n",
    "x=4\n",
    "y=3\n",
    "b=x\n",
    "x=y\n",
    "y=b\n",
    "\n",
    "print(\"x=\",x, \"and\", \"y=\",y )\n"
   ]
  },
  {
   "cell_type": "markdown",
   "metadata": {},
   "source": [
    "# Python code for calculating the perimeter and Area of a rectangle "
   ]
  },
  {
   "cell_type": "code",
   "execution_count": 12,
   "metadata": {},
   "outputs": [
    {
     "name": "stdout",
     "output_type": "stream",
     "text": [
      "Enter Length: L = 3.4\n",
      "Enter width: l = 2\n",
      "The Perimeter of a rectangle is =  10.8\n",
      "The Area of a rectangle is =  6.8\n"
     ]
    }
   ],
   "source": [
    "#\n",
    "L=float(input(\"Enter Length: L = \"))\n",
    "l=float(input(\"Enter width: l = \"))\n",
    "\n",
    "peri = 2*(l+L)\n",
    "area = l*L\n",
    "\n",
    "print(\"The Perimeter of a rectangle is = \", peri )\n",
    "print(\"The Area of a rectangle is = \", area )"
   ]
  },
  {
   "cell_type": "markdown",
   "metadata": {},
   "source": [
    "# Python code for calculating Area and Volume of the cylinder"
   ]
  },
  {
   "cell_type": "code",
   "execution_count": 9,
   "metadata": {},
   "outputs": [
    {
     "name": "stdout",
     "output_type": "stream",
     "text": [
      "Enter Radius: r=3\n",
      "Enter height: h=4\n",
      "The Area of a Cylinder is 28.274333882308138\n",
      "The Volume of a Cylinder is 113.09733552923255\n"
     ]
    }
   ],
   "source": [
    "#\n",
    "\n",
    "from numpy import*\n",
    "r=float(input(\"Enter Radius: r=\"))\n",
    "h=float(input(\"Enter height: h=\"))\n",
    "\n",
    "a=(r**2)*(pi)\n",
    "print(\"The Area of a Cylinder is\",a)\n",
    "\n",
    "V=a*h\n",
    "print(\"The Volume of a Cylinder is\",V)"
   ]
  },
  {
   "cell_type": "code",
   "execution_count": null,
   "metadata": {},
   "outputs": [],
   "source": []
  }
 ],
 "metadata": {
  "kernelspec": {
   "display_name": "Python 3",
   "language": "python",
   "name": "python3"
  },
  "language_info": {
   "codemirror_mode": {
    "name": "ipython",
    "version": 3
   },
   "file_extension": ".py",
   "mimetype": "text/x-python",
   "name": "python",
   "nbconvert_exporter": "python",
   "pygments_lexer": "ipython3",
   "version": "3.8.3"
  }
 },
 "nbformat": 4,
 "nbformat_minor": 4
}
